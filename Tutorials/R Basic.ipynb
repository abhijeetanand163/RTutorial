{
 "cells": [
  {
   "cell_type": "markdown",
   "metadata": {},
   "source": [
    "## R Tutorial Basic : \n",
    "_____________________\n",
    "_______________________"
   ]
  },
  {
   "cell_type": "markdown",
   "metadata": {},
   "source": [
    "-------------------------------------\n",
    "### Vector in R\n",
    "\n",
    "    Can be written in 2 ways:\n",
    "    1.  \" <- c(elements) \"\n",
    "    2.  \" = c(elements) \""
   ]
  },
  {
   "cell_type": "code",
   "execution_count": 2,
   "metadata": {},
   "outputs": [
    {
     "data": {
      "text/html": [
       "<ol class=list-inline>\n",
       "\t<li>'Honda'</li>\n",
       "\t<li>'Ferrari'</li>\n",
       "\t<li>'Turbo'</li>\n",
       "</ol>\n"
      ],
      "text/latex": [
       "\\begin{enumerate*}\n",
       "\\item 'Honda'\n",
       "\\item 'Ferrari'\n",
       "\\item 'Turbo'\n",
       "\\end{enumerate*}\n"
      ],
      "text/markdown": [
       "1. 'Honda'\n",
       "2. 'Ferrari'\n",
       "3. 'Turbo'\n",
       "\n",
       "\n"
      ],
      "text/plain": [
       "[1] \"Honda\"   \"Ferrari\" \"Turbo\"  "
      ]
     },
     "metadata": {},
     "output_type": "display_data"
    }
   ],
   "source": [
    "# both types can be used to write !!\n",
    "\n",
    "list1 <- c(\"Honda\", \"Ferrari\", \"Turbo\")\n",
    "list1"
   ]
  },
  {
   "cell_type": "code",
   "execution_count": 3,
   "metadata": {},
   "outputs": [
    {
     "data": {
      "text/html": [
       "<ol class=list-inline>\n",
       "\t<li>'Honda'</li>\n",
       "\t<li>'Ferrari'</li>\n",
       "\t<li>'Turbo'</li>\n",
       "</ol>\n"
      ],
      "text/latex": [
       "\\begin{enumerate*}\n",
       "\\item 'Honda'\n",
       "\\item 'Ferrari'\n",
       "\\item 'Turbo'\n",
       "\\end{enumerate*}\n"
      ],
      "text/markdown": [
       "1. 'Honda'\n",
       "2. 'Ferrari'\n",
       "3. 'Turbo'\n",
       "\n",
       "\n"
      ],
      "text/plain": [
       "[1] \"Honda\"   \"Ferrari\" \"Turbo\"  "
      ]
     },
     "metadata": {},
     "output_type": "display_data"
    }
   ],
   "source": [
    "list1 = c(\"Honda\", \"Ferrari\", \"Turbo\")\n",
    "list1"
   ]
  },
  {
   "cell_type": "markdown",
   "metadata": {},
   "source": [
    "-------------------------------------\n",
    "### List in R"
   ]
  },
  {
   "cell_type": "code",
   "execution_count": 6,
   "metadata": {},
   "outputs": [
    {
     "data": {
      "text/html": [
       "<dl>\n",
       "\t<dt>$name</dt>\n",
       "\t\t<dd><ol class=list-inline>\n",
       "\t<li>'Honda'</li>\n",
       "\t<li>'BMW'</li>\n",
       "\t<li>'Ferrari'</li>\n",
       "</ol>\n",
       "</dd>\n",
       "\t<dt>$color</dt>\n",
       "\t\t<dd><ol class=list-inline>\n",
       "\t<li>'Black'</li>\n",
       "\t<li>'Blue'</li>\n",
       "\t<li>'Red'</li>\n",
       "</ol>\n",
       "</dd>\n",
       "\t<dt>$cc</dt>\n",
       "\t\t<dd><ol class=list-inline>\n",
       "\t<li>2000</li>\n",
       "\t<li>3400</li>\n",
       "\t<li>4000</li>\n",
       "</ol>\n",
       "</dd>\n",
       "</dl>\n"
      ],
      "text/latex": [
       "\\begin{description}\n",
       "\\item[\\$name] \\begin{enumerate*}\n",
       "\\item 'Honda'\n",
       "\\item 'BMW'\n",
       "\\item 'Ferrari'\n",
       "\\end{enumerate*}\n",
       "\n",
       "\\item[\\$color] \\begin{enumerate*}\n",
       "\\item 'Black'\n",
       "\\item 'Blue'\n",
       "\\item 'Red'\n",
       "\\end{enumerate*}\n",
       "\n",
       "\\item[\\$cc] \\begin{enumerate*}\n",
       "\\item 2000\n",
       "\\item 3400\n",
       "\\item 4000\n",
       "\\end{enumerate*}\n",
       "\n",
       "\\end{description}\n"
      ],
      "text/markdown": [
       "$name\n",
       ":   1. 'Honda'\n",
       "2. 'BMW'\n",
       "3. 'Ferrari'\n",
       "\n",
       "\n",
       "\n",
       "$color\n",
       ":   1. 'Black'\n",
       "2. 'Blue'\n",
       "3. 'Red'\n",
       "\n",
       "\n",
       "\n",
       "$cc\n",
       ":   1. 2000\n",
       "2. 3400\n",
       "3. 4000\n",
       "\n",
       "\n",
       "\n",
       "\n",
       "\n"
      ],
      "text/plain": [
       "$name\n",
       "[1] \"Honda\"   \"BMW\"     \"Ferrari\"\n",
       "\n",
       "$color\n",
       "[1] \"Black\" \"Blue\"  \"Red\"  \n",
       "\n",
       "$cc\n",
       "[1] 2000 3400 4000\n"
      ]
     },
     "metadata": {},
     "output_type": "display_data"
    }
   ],
   "source": [
    "cars <-list(name =c(\"Honda\",\"BMW\",\"Ferrari\"), color =c(\"Black\",\"Blue\",\"Red\"), cc =c(2000,3400,4000))\n",
    "cars"
   ]
  },
  {
   "cell_type": "code",
   "execution_count": 8,
   "metadata": {},
   "outputs": [
    {
     "data": {
      "text/html": [
       "<dl>\n",
       "\t<dt>$name</dt>\n",
       "\t\t<dd><ol class=list-inline>\n",
       "\t<li>'Honda'</li>\n",
       "\t<li>'BMW'</li>\n",
       "\t<li>'Ferrari'</li>\n",
       "</ol>\n",
       "</dd>\n",
       "\t<dt>$color</dt>\n",
       "\t\t<dd><ol class=list-inline>\n",
       "\t<li>'Black'</li>\n",
       "\t<li>'Blue'</li>\n",
       "\t<li>'Red'</li>\n",
       "</ol>\n",
       "</dd>\n",
       "\t<dt>$cc</dt>\n",
       "\t\t<dd><ol class=list-inline>\n",
       "\t<li>2000</li>\n",
       "\t<li>3400</li>\n",
       "\t<li>4000</li>\n",
       "</ol>\n",
       "</dd>\n",
       "</dl>\n"
      ],
      "text/latex": [
       "\\begin{description}\n",
       "\\item[\\$name] \\begin{enumerate*}\n",
       "\\item 'Honda'\n",
       "\\item 'BMW'\n",
       "\\item 'Ferrari'\n",
       "\\end{enumerate*}\n",
       "\n",
       "\\item[\\$color] \\begin{enumerate*}\n",
       "\\item 'Black'\n",
       "\\item 'Blue'\n",
       "\\item 'Red'\n",
       "\\end{enumerate*}\n",
       "\n",
       "\\item[\\$cc] \\begin{enumerate*}\n",
       "\\item 2000\n",
       "\\item 3400\n",
       "\\item 4000\n",
       "\\end{enumerate*}\n",
       "\n",
       "\\end{description}\n"
      ],
      "text/markdown": [
       "$name\n",
       ":   1. 'Honda'\n",
       "2. 'BMW'\n",
       "3. 'Ferrari'\n",
       "\n",
       "\n",
       "\n",
       "$color\n",
       ":   1. 'Black'\n",
       "2. 'Blue'\n",
       "3. 'Red'\n",
       "\n",
       "\n",
       "\n",
       "$cc\n",
       ":   1. 2000\n",
       "2. 3400\n",
       "3. 4000\n",
       "\n",
       "\n",
       "\n",
       "\n",
       "\n"
      ],
      "text/plain": [
       "$name\n",
       "[1] \"Honda\"   \"BMW\"     \"Ferrari\"\n",
       "\n",
       "$color\n",
       "[1] \"Black\" \"Blue\"  \"Red\"  \n",
       "\n",
       "$cc\n",
       "[1] 2000 3400 4000\n"
      ]
     },
     "metadata": {},
     "output_type": "display_data"
    }
   ],
   "source": [
    "cars = list(name =c(\"Honda\",\"BMW\",\"Ferrari\"), color =c(\"Black\",\"Blue\",\"Red\"), cc =c(2000,3400,4000))\n",
    "cars"
   ]
  },
  {
   "cell_type": "markdown",
   "metadata": {},
   "source": [
    "-----------------------------------------------------------------------------\n",
    "### Matrix in R"
   ]
  },
  {
   "cell_type": "code",
   "execution_count": 13,
   "metadata": {},
   "outputs": [
    {
     "data": {
      "text/html": [
       "<table>\n",
       "<thead><tr><th></th><th scope=col>C.1</th><th scope=col>C.2</th><th scope=col>C.3</th></tr></thead>\n",
       "<tbody>\n",
       "\t<tr><th scope=row>row1</th><td> 1</td><td> 2</td><td> 3</td></tr>\n",
       "\t<tr><th scope=row>row2</th><td>11</td><td>12</td><td>13</td></tr>\n",
       "</tbody>\n",
       "</table>\n"
      ],
      "text/latex": [
       "\\begin{tabular}{r|lll}\n",
       "  & C.1 & C.2 & C.3\\\\\n",
       "\\hline\n",
       "\trow1 &  1 &  2 &  3\\\\\n",
       "\trow2 & 11 & 12 & 13\\\\\n",
       "\\end{tabular}\n"
      ],
      "text/markdown": [
       "\n",
       "| <!--/--> | C.1 | C.2 | C.3 |\n",
       "|---|---|---|---|\n",
       "| row1 |  1 |  2 |  3 |\n",
       "| row2 | 11 | 12 | 13 |\n",
       "\n"
      ],
      "text/plain": [
       "     C.1 C.2 C.3\n",
       "row1  1   2   3 \n",
       "row2 11  12  13 "
      ]
     },
     "metadata": {},
     "output_type": "display_data"
    }
   ],
   "source": [
    "mdat <-matrix(c(1,2,3, 11,12,13), nrow =2, ncol =3, byrow =TRUE, dimnames =list(c(\"row1\", \"row2\"), c(\"C.1\", \"C.2\", \"C.3\")))\n",
    "mdat"
   ]
  },
  {
   "cell_type": "code",
   "execution_count": null,
   "metadata": {},
   "outputs": [],
   "source": []
  }
 ],
 "metadata": {
  "kernelspec": {
   "display_name": "R",
   "language": "R",
   "name": "ir"
  },
  "language_info": {
   "codemirror_mode": "r",
   "file_extension": ".r",
   "mimetype": "text/x-r-source",
   "name": "R",
   "pygments_lexer": "r",
   "version": "3.6.0"
  }
 },
 "nbformat": 4,
 "nbformat_minor": 2
}
